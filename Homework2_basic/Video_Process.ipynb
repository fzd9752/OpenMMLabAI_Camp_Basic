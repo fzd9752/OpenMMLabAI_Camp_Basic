{
 "cells": [
  {
   "cell_type": "code",
   "execution_count": null,
   "id": "eb00ff87-0823-49a1-b04d-ecb4f70a6e90",
   "metadata": {},
   "outputs": [],
   "source": [
    "!pip3 install moviepy"
   ]
  },
  {
   "cell_type": "code",
   "execution_count": null,
   "id": "51b454d9-c8a1-4729-8fbd-fb6b5e23d08b",
   "metadata": {},
   "outputs": [],
   "source": [
    "import mmcv\n",
    "import numpy as np\n",
    "from mmdet.apis import init_detector, inference_detector, show_result_pyplot\n",
    "from mmdet.utils import auto_select_device\n",
    "device = auto_select_device()\n",
    "\n",
    "config_file =  \"work_dirs/mask_rcnn_balloon/mask_rcnn_balloon.py\"\n",
    "checkpoint_file = \"work_dirs/mask_rcnn_balloon/latest.pth\"\n",
    "\n",
    "model = init_detector(config_file, checkpoint_file,device)"
   ]
  },
  {
   "cell_type": "code",
   "execution_count": null,
   "id": "26aecfe3-78cc-4cba-b4cc-cacbcd982a6e",
   "metadata": {},
   "outputs": [],
   "source": [
    "def colour_mask_grayscale(image, result, thr = 0.65):\n",
    "    \n",
    "    img_copy = image.copy()\n",
    "    \n",
    "    bbox = result[0][0]\n",
    "    seg = result[1][0]\n",
    "    masks = np.zeros([img_copy.shape[:2][0], img_copy.shape[:2][1]])\n",
    "    \n",
    "    n_obj = bbox.shape[0]\n",
    "    \n",
    "    for i in range(n_obj):\n",
    "        if bbox[i, -1] < thr:\n",
    "            # print(bbox[i, -1])\n",
    "            continue\n",
    "    \n",
    "        masks += seg[i]\n",
    "        #print(masks.shape)\n",
    "    \n",
    "    mask_img = img_copy*masks.astype(bool)[:, :, None]\n",
    "    img_gray = np.dot(img_copy[...,:3], [0.299, 0.587, 0.114])\n",
    "    img_gray[masks==1] = 0\n",
    "    \n",
    "    return (mask_img+img_gray[:, :, None]).astype(np.uint8)\n",
    "\n",
    "def process(image):\n",
    "    \n",
    "    #img = mmcv.imread(image)\n",
    "    \n",
    "    result = inference_detector(model, image)\n",
    "    \n",
    "    return colour_mask_grayscale(image, result)"
   ]
  },
  {
   "cell_type": "code",
   "execution_count": null,
   "id": "d0576621-e8f6-47ea-8db4-d5f988188001",
   "metadata": {},
   "outputs": [],
   "source": [
    "from moviepy.editor import VideoFileClip"
   ]
  },
  {
   "cell_type": "code",
   "execution_count": null,
   "id": "25dbbf6f-69a8-4914-9ffc-71a9be81c797",
   "metadata": {},
   "outputs": [],
   "source": [
    "clip = VideoFileClip(\"test_video.mp4\")"
   ]
  },
  {
   "cell_type": "code",
   "execution_count": null,
   "id": "f9df6cf6-64c4-408c-9efc-c5d8a5502a75",
   "metadata": {},
   "outputs": [],
   "source": [
    "print(clip.duration)\n",
    "print(clip.fps)"
   ]
  },
  {
   "cell_type": "code",
   "execution_count": null,
   "id": "4c20e47a-75b3-4795-81c5-2bb05ceaaa38",
   "metadata": {},
   "outputs": [],
   "source": [
    "masked_clip = clip.fl_image(process) #NOTE: this function expects color images!!\n",
    "%time masked_clip.write_videofile(\"output.mp4\", fps=25, audio=False)"
   ]
  }
 ],
 "metadata": {
  "kernelspec": {
   "display_name": "Python 3 (ipykernel)",
   "language": "python",
   "name": "python3"
  },
  "language_info": {
   "codemirror_mode": {
    "name": "ipython",
    "version": 3
   },
   "file_extension": ".py",
   "mimetype": "text/x-python",
   "name": "python",
   "nbconvert_exporter": "python",
   "pygments_lexer": "ipython3",
   "version": "3.8.16"
  }
 },
 "nbformat": 4,
 "nbformat_minor": 5
}
